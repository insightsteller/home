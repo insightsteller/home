{
 "cells": [
  {
   "cell_type": "code",
   "execution_count": 1,
   "id": "315d37b4",
   "metadata": {},
   "outputs": [],
   "source": [
    "import requests\n",
    "import pandas as pd\n",
    "from bs4 import BeautifulSoup\n",
    "import numpy as np"
   ]
  },
  {
   "cell_type": "code",
   "execution_count": 2,
   "id": "b0908eaa",
   "metadata": {},
   "outputs": [],
   "source": [
    "company_name_final= []\n",
    "company_type_final= []\n",
    "company_headquarter_location_final= []\n",
    "company_age_final=[]\n",
    "Number_of_Employees_final=[]"
   ]
  },
  {
   "cell_type": "code",
   "execution_count": 3,
   "id": "44624448",
   "metadata": {},
   "outputs": [],
   "source": [
    "\n",
    "headers = {'User-Agent': 'Mozilla/5.0 (Windows NT 6.3; Win64; x64) AppleWebKit/537.36 (KHTML , line Gecko) Chrome/80.0.3987.162 Safari/537.36'}\n",
    "for i in range(1 , 163):\n",
    "    response = requests.get((f'https://www.ambitionbox.com/list-of-companies?sort_by=popularity&tag=startup&page={i}') , headers= headers).text\n",
    "    soup = BeautifulSoup(response , 'html.parser')\n",
    "    company_info = soup.find_all('div' , class_='company-content-wrapper')\n",
    "    for i in company_info:\n",
    "        \n",
    "        company_name = []\n",
    "        try:\n",
    "            company_name.append((i.find('h2')).text.strip())\n",
    "        except:\n",
    "            company_name.append(np.nan)\n",
    "        \n",
    "        company_name_final.append(company_name)\n",
    "        company_name = []\n",
    "\n",
    "\n",
    "\n",
    "            \n",
    "            \n",
    "            \n",
    "    company_info_1 = soup.find_all(\"div\" , class_=\"company-basic-info\")\n",
    "\n",
    "    for i in company_info_1:\n",
    "\n",
    "            \n",
    "        company_type = [] \n",
    "        try:\n",
    "            company_type.append((i.select('p')[0]).text.strip())\n",
    "        except:\n",
    "            company_type.append(np.nan)\n",
    "        \n",
    "        company_type_final.append(company_type)\n",
    "        company_type = [] \n",
    "        \n",
    "        \n",
    "        \n",
    "        \n",
    "        \n",
    "        company_headquarter_location = []\n",
    "        try:\n",
    "            company_headquarter_location.append((i.select('p')[1]).text.strip())\n",
    "        except:\n",
    "            company_headquarter_location.append(np.nan)\n",
    "        \n",
    "        company_headquarter_location_final.append(company_headquarter_location)\n",
    "        company_headquarter_location = []\n",
    "\n",
    "        \n",
    "        \n",
    "        \n",
    "        company_age =[]\n",
    "        try:\n",
    "            company_age.append((i.select('p')[2]).text.strip())\n",
    "        except:\n",
    "            company_age.append(np.nan)\n",
    "        \n",
    "        company_age_final.append(company_age)\n",
    "        company_age =[]\n",
    "\n",
    "          \n",
    "        \n",
    "        \n",
    "        \n",
    "        Number_of_Employees =[]\n",
    "        try:\n",
    "            Number_of_Employees.append((i.select('p')[3]).text.strip())\n",
    "        except:\n",
    "            Number_of_Employees.append(np.nan) \n",
    "        \n",
    "        Number_of_Employees_final.append(Number_of_Employees)\n",
    "        Number_of_Employees =[]\n",
    "        \n"
   ]
  },
  {
   "cell_type": "code",
   "execution_count": 8,
   "id": "594f37d6",
   "metadata": {},
   "outputs": [
    {
     "name": "stdout",
     "output_type": "stream",
     "text": [
      "4859\n",
      "4859\n",
      "4859\n",
      "4859\n",
      "4859\n"
     ]
    }
   ],
   "source": [
    "print(len(company_name_final))\n",
    "print(len(company_type_final))\n",
    "print(len(company_headquarter_location_final))\n",
    "print(len(company_age_final))\n",
    "print(len(Number_of_Employees_final))"
   ]
  },
  {
   "cell_type": "code",
   "execution_count": 12,
   "id": "ea64f0c1",
   "metadata": {},
   "outputs": [],
   "source": [
    "df = pd.DataFrame({'company_name_final':company_name_final ,'company_type_final':company_type_final, 'company_headquarter_location_final' :company_headquarter_location_final , 'company_age_final':company_age_final ,'Number_of_Employees_final':Number_of_Employees_final})"
   ]
  },
  {
   "cell_type": "code",
   "execution_count": 13,
   "id": "095330cd",
   "metadata": {},
   "outputs": [],
   "source": [
    "df.to_csv('BeautifulSoap_Web_scrap_data_list_of_indian_startups.csv')"
   ]
  },
  {
   "cell_type": "code",
   "execution_count": null,
   "id": "9c8615c6",
   "metadata": {},
   "outputs": [],
   "source": []
  },
  {
   "cell_type": "code",
   "execution_count": null,
   "id": "cf1454f2",
   "metadata": {},
   "outputs": [],
   "source": []
  },
  {
   "cell_type": "code",
   "execution_count": null,
   "id": "f57545fd",
   "metadata": {},
   "outputs": [],
   "source": []
  },
  {
   "cell_type": "code",
   "execution_count": null,
   "id": "69206c53",
   "metadata": {},
   "outputs": [],
   "source": []
  },
  {
   "cell_type": "code",
   "execution_count": null,
   "id": "613ef772",
   "metadata": {},
   "outputs": [],
   "source": []
  },
  {
   "cell_type": "code",
   "execution_count": null,
   "id": "35b964f5",
   "metadata": {},
   "outputs": [],
   "source": []
  },
  {
   "cell_type": "code",
   "execution_count": null,
   "id": "d8292439",
   "metadata": {},
   "outputs": [],
   "source": []
  },
  {
   "cell_type": "code",
   "execution_count": null,
   "id": "65e87d40",
   "metadata": {},
   "outputs": [],
   "source": [
    "\n",
    "    \n"
   ]
  }
 ],
 "metadata": {
  "kernelspec": {
   "display_name": "Python 3 (ipykernel)",
   "language": "python",
   "name": "python3"
  },
  "language_info": {
   "codemirror_mode": {
    "name": "ipython",
    "version": 3
   },
   "file_extension": ".py",
   "mimetype": "text/x-python",
   "name": "python",
   "nbconvert_exporter": "python",
   "pygments_lexer": "ipython3",
   "version": "3.9.6"
  }
 },
 "nbformat": 4,
 "nbformat_minor": 5
}
